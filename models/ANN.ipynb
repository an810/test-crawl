{
 "cells": [
  {
   "cell_type": "code",
   "execution_count": 1,
   "metadata": {},
   "outputs": [],
   "source": [
    "import tensorflow as tf\n",
    "import keras\n",
    "from sklearn.preprocessing import StandardScaler\n",
    "from sklearn.metrics import mean_absolute_error, mean_squared_error, r2_score, mean_absolute_percentage_error\n",
    "from sklearn.model_selection import train_test_split\n",
    "import pandas as pd"
   ]
  },
  {
   "cell_type": "code",
   "execution_count": 7,
   "metadata": {},
   "outputs": [],
   "source": [
    "df = pd.read_csv('../cleaning/output/processed_data.tsv', sep='\\t')\n",
    "\n",
    "X = df.drop(['price', 'title', 'province', 'url_id'], axis=1)\n",
    "y = df['price']\n",
    "\n",
    "X_train, X_test, y_train, y_test = train_test_split(X, y, test_size=0.2, random_state=128)"
   ]
  },
  {
   "cell_type": "code",
   "execution_count": 8,
   "metadata": {},
   "outputs": [],
   "source": [
    "scaler = StandardScaler()\n",
    "X_train_scaled = scaler.fit_transform(X_train)\n",
    "X_test_scaled = scaler.transform(X_test)"
   ]
  },
  {
   "cell_type": "code",
   "execution_count": 9,
   "metadata": {},
   "outputs": [],
   "source": [
    "model = keras.Sequential([\n",
    "    keras.layers.Dense(256, activation='relu', input_shape=(X_train_scaled.shape[1],)),\n",
    "    keras.layers.Dropout(0.2),\n",
    "    keras.layers.Dense(128, activation='relu'),\n",
    "    keras.layers.Dense(64, activation='relu'),\n",
    "    keras.layers.Dense(1)\n",
    "])"
   ]
  },
  {
   "cell_type": "code",
   "execution_count": 10,
   "metadata": {},
   "outputs": [
    {
     "name": "stdout",
     "output_type": "stream",
     "text": [
      "Epoch 1/200\n",
      "263/263 [==============================] - 1s 1ms/step - loss: 61.7930 - val_loss: 18.7836\n",
      "Epoch 2/200\n",
      "263/263 [==============================] - 0s 1ms/step - loss: 26.9923 - val_loss: 15.4585\n",
      "Epoch 3/200\n",
      "263/263 [==============================] - 0s 1ms/step - loss: 16.2195 - val_loss: 14.1568\n",
      "Epoch 4/200\n",
      "263/263 [==============================] - 0s 1ms/step - loss: 13.5885 - val_loss: 13.4735\n",
      "Epoch 5/200\n",
      "263/263 [==============================] - 0s 1ms/step - loss: 12.8879 - val_loss: 12.9979\n",
      "Epoch 6/200\n",
      "263/263 [==============================] - 1s 2ms/step - loss: 12.5148 - val_loss: 12.7412\n",
      "Epoch 7/200\n",
      "263/263 [==============================] - 0s 1ms/step - loss: 12.3490 - val_loss: 12.4983\n",
      "Epoch 8/200\n",
      "263/263 [==============================] - 0s 1ms/step - loss: 12.0071 - val_loss: 12.2381\n",
      "Epoch 9/200\n",
      "263/263 [==============================] - 0s 1ms/step - loss: 11.9467 - val_loss: 11.9023\n",
      "Epoch 10/200\n",
      "263/263 [==============================] - 0s 1ms/step - loss: 11.7057 - val_loss: 11.7534\n",
      "Epoch 11/200\n",
      "263/263 [==============================] - 0s 1ms/step - loss: 11.4656 - val_loss: 11.6435\n",
      "Epoch 12/200\n",
      "263/263 [==============================] - 0s 1ms/step - loss: 11.4108 - val_loss: 11.6735\n",
      "Epoch 13/200\n",
      "263/263 [==============================] - 0s 1ms/step - loss: 11.1953 - val_loss: 11.5203\n",
      "Epoch 14/200\n",
      "263/263 [==============================] - 0s 1ms/step - loss: 11.1989 - val_loss: 11.9353\n",
      "Epoch 15/200\n",
      "263/263 [==============================] - 0s 1ms/step - loss: 11.1688 - val_loss: 11.1588\n",
      "Epoch 16/200\n",
      "263/263 [==============================] - 0s 1ms/step - loss: 11.1148 - val_loss: 11.4040\n",
      "Epoch 17/200\n",
      "263/263 [==============================] - 0s 1ms/step - loss: 11.0294 - val_loss: 11.4808\n",
      "Epoch 18/200\n",
      "263/263 [==============================] - 0s 1ms/step - loss: 10.9864 - val_loss: 11.1582\n",
      "Epoch 19/200\n",
      "263/263 [==============================] - 0s 1ms/step - loss: 10.8840 - val_loss: 11.2949\n",
      "Epoch 20/200\n",
      "263/263 [==============================] - 0s 1ms/step - loss: 10.8969 - val_loss: 11.0960\n",
      "Epoch 21/200\n",
      "263/263 [==============================] - 0s 2ms/step - loss: 10.8836 - val_loss: 11.5428\n",
      "Epoch 22/200\n",
      "263/263 [==============================] - 0s 1ms/step - loss: 10.7622 - val_loss: 11.0809\n",
      "Epoch 23/200\n",
      "263/263 [==============================] - 0s 2ms/step - loss: 10.8482 - val_loss: 11.2163\n",
      "Epoch 24/200\n",
      "263/263 [==============================] - 1s 3ms/step - loss: 10.6694 - val_loss: 11.1866\n",
      "Epoch 25/200\n",
      "263/263 [==============================] - 0s 2ms/step - loss: 10.7524 - val_loss: 10.9205\n",
      "Epoch 26/200\n",
      "263/263 [==============================] - 0s 1ms/step - loss: 10.5828 - val_loss: 10.8439\n",
      "Epoch 27/200\n",
      "263/263 [==============================] - 0s 1ms/step - loss: 10.7529 - val_loss: 10.9845\n",
      "Epoch 28/200\n",
      "263/263 [==============================] - 0s 1ms/step - loss: 10.6572 - val_loss: 10.8503\n",
      "Epoch 29/200\n",
      "263/263 [==============================] - 0s 1ms/step - loss: 10.5912 - val_loss: 10.8362\n",
      "Epoch 30/200\n",
      "263/263 [==============================] - 0s 1ms/step - loss: 10.6120 - val_loss: 11.0285\n",
      "Epoch 31/200\n",
      "263/263 [==============================] - 0s 1ms/step - loss: 10.5088 - val_loss: 11.1057\n",
      "Epoch 32/200\n",
      "263/263 [==============================] - 0s 1ms/step - loss: 10.4032 - val_loss: 10.6354\n",
      "Epoch 33/200\n",
      "263/263 [==============================] - 0s 1ms/step - loss: 10.4277 - val_loss: 10.4480\n",
      "Epoch 34/200\n",
      "263/263 [==============================] - 1s 2ms/step - loss: 10.4961 - val_loss: 10.5895\n",
      "Epoch 35/200\n",
      "263/263 [==============================] - 0s 2ms/step - loss: 10.2680 - val_loss: 10.5918\n",
      "Epoch 36/200\n",
      "263/263 [==============================] - 0s 1ms/step - loss: 10.3807 - val_loss: 11.1210\n",
      "Epoch 37/200\n",
      "263/263 [==============================] - 0s 1ms/step - loss: 10.3890 - val_loss: 10.8433\n",
      "Epoch 38/200\n",
      "263/263 [==============================] - 1s 2ms/step - loss: 10.2669 - val_loss: 11.3466\n",
      "Epoch 39/200\n",
      "263/263 [==============================] - 0s 2ms/step - loss: 10.3403 - val_loss: 11.0654\n",
      "Epoch 40/200\n",
      "263/263 [==============================] - 0s 2ms/step - loss: 10.2857 - val_loss: 10.7070\n",
      "Epoch 41/200\n",
      "263/263 [==============================] - 0s 1ms/step - loss: 10.3127 - val_loss: 10.4823\n",
      "Epoch 42/200\n",
      "263/263 [==============================] - 0s 1ms/step - loss: 10.2979 - val_loss: 10.4114\n",
      "Epoch 43/200\n",
      "263/263 [==============================] - 0s 1ms/step - loss: 10.1657 - val_loss: 10.6445\n",
      "Epoch 44/200\n",
      "263/263 [==============================] - 0s 1ms/step - loss: 10.2631 - val_loss: 10.3681\n",
      "Epoch 45/200\n",
      "263/263 [==============================] - 0s 1ms/step - loss: 10.1866 - val_loss: 11.0001\n",
      "Epoch 46/200\n",
      "263/263 [==============================] - 0s 1ms/step - loss: 10.0874 - val_loss: 10.4839\n",
      "Epoch 47/200\n",
      "263/263 [==============================] - 0s 1ms/step - loss: 10.0641 - val_loss: 10.5573\n",
      "Epoch 48/200\n",
      "263/263 [==============================] - 0s 1ms/step - loss: 10.0809 - val_loss: 10.4474\n",
      "Epoch 49/200\n",
      "263/263 [==============================] - 0s 1ms/step - loss: 10.0595 - val_loss: 10.4544\n",
      "Epoch 50/200\n",
      "263/263 [==============================] - 0s 1ms/step - loss: 10.1039 - val_loss: 10.7924\n",
      "Epoch 51/200\n",
      "263/263 [==============================] - 0s 1ms/step - loss: 10.0662 - val_loss: 10.3278\n",
      "Epoch 52/200\n",
      "263/263 [==============================] - 0s 1ms/step - loss: 10.0610 - val_loss: 10.4996\n",
      "Epoch 53/200\n",
      "263/263 [==============================] - 0s 1ms/step - loss: 10.1090 - val_loss: 10.7016\n",
      "Epoch 54/200\n",
      "263/263 [==============================] - 0s 1ms/step - loss: 10.0122 - val_loss: 10.5773\n",
      "Epoch 55/200\n",
      "263/263 [==============================] - 0s 1ms/step - loss: 9.8660 - val_loss: 10.3973\n",
      "Epoch 56/200\n",
      "263/263 [==============================] - 0s 2ms/step - loss: 9.8682 - val_loss: 10.6469\n",
      "Epoch 57/200\n",
      "263/263 [==============================] - 0s 1ms/step - loss: 9.9790 - val_loss: 10.4938\n",
      "Epoch 58/200\n",
      "263/263 [==============================] - 0s 1ms/step - loss: 9.8147 - val_loss: 10.4867\n",
      "Epoch 59/200\n",
      "263/263 [==============================] - 0s 1ms/step - loss: 9.8845 - val_loss: 10.4265\n",
      "Epoch 60/200\n",
      "263/263 [==============================] - 0s 1ms/step - loss: 9.8739 - val_loss: 10.7165\n",
      "Epoch 61/200\n",
      "263/263 [==============================] - 0s 1ms/step - loss: 9.8149 - val_loss: 10.6185\n"
     ]
    },
    {
     "data": {
      "text/plain": [
       "<keras.src.callbacks.History at 0x3020acbe0>"
      ]
     },
     "execution_count": 10,
     "metadata": {},
     "output_type": "execute_result"
    }
   ],
   "source": [
    "model.compile(optimizer='adam', loss='mean_squared_error')\n",
    "model.fit(X_train_scaled, y_train, epochs=200, batch_size=32, verbose=1, validation_split=0.1, callbacks=[keras.callbacks.EarlyStopping(patience=10)])"
   ]
  },
  {
   "cell_type": "code",
   "execution_count": 11,
   "metadata": {},
   "outputs": [
    {
     "name": "stdout",
     "output_type": "stream",
     "text": [
      "73/73 [==============================] - 0s 620us/step\n"
     ]
    }
   ],
   "source": [
    "y_pred = model.predict(X_test_scaled)\n",
    "mae = mean_absolute_error(y_test, y_pred)\n",
    "r2 = r2_score(y_test, y_pred)\n",
    "mape = mean_absolute_percentage_error(y_test, y_pred)"
   ]
  },
  {
   "cell_type": "code",
   "execution_count": 12,
   "metadata": {},
   "outputs": [
    {
     "name": "stdout",
     "output_type": "stream",
     "text": [
      "Mean Absolute Error: 2.5215046192974007\n",
      "R-squared: 0.5080370118579073\n",
      "Mean Absolute Percentage Error (MAPE): 0.23236624158017566\n"
     ]
    }
   ],
   "source": [
    "print(f'Mean Absolute Error: {mae}')\n",
    "print(f'R-squared: {r2}')\n",
    "print(f'Mean Absolute Percentage Error (MAPE): {mape}')"
   ]
  },
  {
   "cell_type": "code",
   "execution_count": 32,
   "metadata": {},
   "outputs": [
    {
     "name": "stdout",
     "output_type": "stream",
     "text": [
      "INFO:tensorflow:Assets written to: checkpoint/ANN.model\\assets\n"
     ]
    },
    {
     "name": "stderr",
     "output_type": "stream",
     "text": [
      "INFO:tensorflow:Assets written to: checkpoint/ANN.model\\assets\n"
     ]
    }
   ],
   "source": [
    "model.save('checkpoint/ANN.model')\n",
    "model = keras.models.load_model('checkpoint/ANN.model')"
   ]
  }
 ],
 "metadata": {
  "kernelspec": {
   "display_name": "lib",
   "language": "python",
   "name": "python3"
  },
  "language_info": {
   "codemirror_mode": {
    "name": "ipython",
    "version": 3
   },
   "file_extension": ".py",
   "mimetype": "text/x-python",
   "name": "python",
   "nbconvert_exporter": "python",
   "pygments_lexer": "ipython3",
   "version": "3.10.12"
  }
 },
 "nbformat": 4,
 "nbformat_minor": 2
}
